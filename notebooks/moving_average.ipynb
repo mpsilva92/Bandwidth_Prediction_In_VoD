{
 "cells": [
  {
   "cell_type": "code",
   "execution_count": 1,
   "id": "20df6580",
   "metadata": {},
   "outputs": [],
   "source": [
    "import pandas as pd\n",
    "import numpy as np\n",
    "import seaborn as sns\n",
    "import matplotlib.pyplot as plt\n",
    "import logging\n",
    "from statistics import median, mean\n",
    "\n",
    "logging.basicConfig(level=logging.DEBUG, format=\"%(asctime)s:%(levelname)s:%(message)s\")\n",
    "log = logging.getLogger(__name__)"
   ]
  },
  {
   "cell_type": "code",
   "execution_count": 24,
   "id": "018bc062",
   "metadata": {},
   "outputs": [],
   "source": [
    "# load SMA\n",
    "data_of_sma = pd.read_csv('../results/test/user_high_freq/Metric_SMA_user_with_high_freq.csv')"
   ]
  },
  {
   "cell_type": "code",
   "execution_count": 25,
   "id": "37a016e8",
   "metadata": {},
   "outputs": [],
   "source": [
    "# load HM\n",
    "data_of_hm = pd.read_csv('../results/test/user_high_freq/Metric_HM_user_with_high_freq.csv')                        "
   ]
  },
  {
   "cell_type": "code",
   "execution_count": 26,
   "id": "6d0548a7",
   "metadata": {},
   "outputs": [],
   "source": [
    "# load EWMA\n",
    "data_of_ewma = pd.read_csv('../results/test/user_high_freq/Metric_EWMA_user_with_high_freq.csv')"
   ]
  },
  {
   "cell_type": "code",
   "execution_count": 27,
   "id": "d50ef567",
   "metadata": {},
   "outputs": [],
   "source": [
    "# load CNN-BiGRU\n",
    "data_of_cnn_bigru = pd.read_csv('../results/test/user_high_freq/Metric_CNNBiGRU_user_with_high_freq.csv')"
   ]
  },
  {
   "cell_type": "code",
   "execution_count": 28,
   "id": "2db27642",
   "metadata": {},
   "outputs": [],
   "source": [
    "client_name = 'user_high_freq'"
   ]
  },
  {
   "cell_type": "code",
   "execution_count": 29,
   "id": "f4171df3",
   "metadata": {},
   "outputs": [],
   "source": [
    "# Evaluate MSE\n",
    "# Initialize data to Dicts of MSE\n",
    "data_of_mse = {\n",
    "    'SMA': pd.Series(data_of_sma['MSE'],\n",
    "                      index=None),\n",
    "    'HM': pd.Series(data_of_hm['MSE'],\n",
    "                      index=None),\n",
    "    'EWMA': pd.Series(data_of_ewma['MSE'],\n",
    "                      index=None),\n",
    "    'LSGNet':pd.Series(data_of_cnn_bigru['MSE'], \n",
    "                         index=None),\n",
    "    }\n",
    "\n",
    "# create a Dataframe\n",
    "df_mse = pd.DataFrame(data_of_mse)"
   ]
  },
  {
   "cell_type": "code",
   "execution_count": 30,
   "id": "2aa7d151",
   "metadata": {},
   "outputs": [
    {
     "data": {
      "text/plain": [
       "SMA       0\n",
       "HM        0\n",
       "EWMA      0\n",
       "LSGNet    0\n",
       "dtype: int64"
      ]
     },
     "execution_count": 30,
     "metadata": {},
     "output_type": "execute_result"
    }
   ],
   "source": [
    "# verify if exists values NAN\n",
    "df_mse.isnull().sum()"
   ]
  },
  {
   "cell_type": "markdown",
   "id": "8351420c",
   "metadata": {},
   "source": [
    "# MSE"
   ]
  },
  {
   "cell_type": "code",
   "execution_count": 31,
   "id": "69ed2969",
   "metadata": {
    "scrolled": true
   },
   "outputs": [
    {
     "name": "stderr",
     "output_type": "stream",
     "text": [
      "2025-04-02 03:53:44,634:DEBUG:Assigning font /b'F1' = '/home/marccos.praiano/anaconda3/envs/dev/lib/python3.6/site-packages/matplotlib/mpl-data/fonts/ttf/DejaVuSans.ttf'\n",
      "2025-04-02 03:53:44,654:DEBUG:Embedding font /home/marccos.praiano/anaconda3/envs/dev/lib/python3.6/site-packages/matplotlib/mpl-data/fonts/ttf/DejaVuSans.ttf.\n",
      "2025-04-02 03:53:44,654:DEBUG:Writing TrueType font.\n"
     ]
    },
    {
     "data": {
      "image/png": "[encoded data removed]",
      "text/plain": [
       "<Figure size 288x288 with 1 Axes>"
      ]
     },
     "metadata": {},
     "output_type": "display_data"
    }
   ],
   "source": [
    "# show the error bars\n",
    "plt.figure(figsize=(4, 4)) # Set the figure size\n",
    "sns.set_style(\"whitegrid\")\n",
    "ax = sns.barplot(data=df_mse, ci=95, capsize=.2, color='gray')\n",
    "# plt.grid(True, axis='y', color='black', );\n",
    "plt.ylabel('MSE')\n",
    "# plt.grid(True)\n",
    "plt.savefig(\"../plots/MOVING_AVERAGE/mse_moving_average_\"+client_name+\".pdf\")\n",
    "plt.show()"
   ]
  },
  {
   "cell_type": "markdown",
   "id": "46d32731",
   "metadata": {},
   "source": [
    "# MAE"
   ]
  },
  {
   "cell_type": "code",
   "execution_count": 32,
   "id": "cbe00cdf",
   "metadata": {},
   "outputs": [],
   "source": [
    "# Initialize data to Dicts of MAE\n",
    "data_of_mae = {\n",
    "    'SMA': pd.Series(data_of_sma['MAE'],\n",
    "                      index=None),\n",
    "    'HM': pd.Series(data_of_hm['MAE'],\n",
    "                      index=None),\n",
    "    'EWMA': pd.Series(data_of_ewma['MAE'],\n",
    "                      index=None),\n",
    "    'LSGNet': pd.Series(data_of_cnn_bigru['MAE'], \n",
    "                         index=None)\n",
    "    }\n",
    "\n",
    "# create a Dataframe\n",
    "df_mae = pd.DataFrame(data_of_mae)"
   ]
  },
  {
   "cell_type": "code",
   "execution_count": 33,
   "id": "e78ceb39",
   "metadata": {},
   "outputs": [
    {
     "data": {
      "text/plain": [
       "SMA       0\n",
       "HM        0\n",
       "EWMA      0\n",
       "LSGNet    0\n",
       "dtype: int64"
      ]
     },
     "execution_count": 33,
     "metadata": {},
     "output_type": "execute_result"
    }
   ],
   "source": [
    "df_mae.isnull().sum()"
   ]
  },
  {
   "cell_type": "code",
   "execution_count": 17,
   "id": "524bf13e",
   "metadata": {},
   "outputs": [
    {
     "name": "stderr",
     "output_type": "stream",
     "text": [
      "2025-04-02 03:45:45,429:DEBUG:Assigning font /b'F1' = '/home/marccos.praiano/anaconda3/envs/dev/lib/python3.6/site-packages/matplotlib/mpl-data/fonts/ttf/DejaVuSans.ttf'\n",
      "2025-04-02 03:45:45,448:DEBUG:Embedding font /home/marccos.praiano/anaconda3/envs/dev/lib/python3.6/site-packages/matplotlib/mpl-data/fonts/ttf/DejaVuSans.ttf.\n",
      "2025-04-02 03:45:45,448:DEBUG:Writing TrueType font.\n"
     ]
    },
    {
     "data": {
      "image/png": "[encoded data removed]",
      "text/plain": [
       "<Figure size 288x288 with 1 Axes>"
      ]
     },
     "metadata": {},
     "output_type": "display_data"
    }
   ],
   "source": [
    "# error bars\n",
    "plt.figure(figsize=(4, 4)) # Set the figure size\n",
    "sns.set_style(\"whitegrid\")\n",
    "ax = sns.barplot(data=df_mae, ci=95, capsize=.2, color='gray')\n",
    "plt.ylabel('MAE')\n",
    "# plt.grid(True)\n",
    "plt.savefig(\"../plots/MOVING_AVERAGE/mae_moving_average_\"+client_name+\".pdf\")\n",
    "plt.show()"
   ]
  },
  {
   "cell_type": "markdown",
   "id": "570503af",
   "metadata": {},
   "source": [
    "# RSE"
   ]
  },
  {
   "cell_type": "code",
   "execution_count": 34,
   "id": "7956e371",
   "metadata": {},
   "outputs": [],
   "source": [
    "# Initialize data to Dicts of RSE\n",
    "data_of_rse = {\n",
    "    'SMA': pd.Series(data_of_sma['RSE'],\n",
    "                      index=None),\n",
    "    'HM': pd.Series(data_of_hm['RSE'],\n",
    "                      index=None),\n",
    "    'EWMA': pd.Series(data_of_ewma['RSE'],\n",
    "                      index=None),\n",
    "    'LSGNet': pd.Series(data_of_cnn_bigru['RSE'],\n",
    "                          index=None),\n",
    "    }\n",
    "\n",
    "# create a Dataframe\n",
    "df_rse = pd.DataFrame(data_of_rse)"
   ]
  },
  {
   "cell_type": "code",
   "execution_count": 35,
   "id": "8a554640",
   "metadata": {},
   "outputs": [
    {
     "data": {
      "text/plain": [
       "SMA       0\n",
       "HM        0\n",
       "EWMA      0\n",
       "LSGNet    0\n",
       "dtype: int64"
      ]
     },
     "execution_count": 35,
     "metadata": {},
     "output_type": "execute_result"
    }
   ],
   "source": [
    "df_rse.isnull().sum()"
   ]
  },
  {
   "cell_type": "code",
   "execution_count": 36,
   "id": "76a507fc",
   "metadata": {},
   "outputs": [
    {
     "name": "stderr",
     "output_type": "stream",
     "text": [
      "2025-04-02 03:54:03,759:DEBUG:Assigning font /b'F1' = '/home/marccos.praiano/anaconda3/envs/dev/lib/python3.6/site-packages/matplotlib/mpl-data/fonts/ttf/DejaVuSans.ttf'\n",
      "2025-04-02 03:54:03,782:DEBUG:Embedding font /home/marccos.praiano/anaconda3/envs/dev/lib/python3.6/site-packages/matplotlib/mpl-data/fonts/ttf/DejaVuSans.ttf.\n",
      "2025-04-02 03:54:03,782:DEBUG:Writing TrueType font.\n"
     ]
    },
    {
     "data": {
      "image/png": "[encoded data removed]",
      "text/plain": [
       "<Figure size 288x288 with 1 Axes>"
      ]
     },
     "metadata": {},
     "output_type": "display_data"
    }
   ],
   "source": [
    "# error bars\n",
    "plt.figure(figsize=(4, 4)) # Set the figure size\n",
    "sns.set_style(\"whitegrid\")\n",
    "ax = sns.barplot(data=df_rse, ci=95, capsize=.2, color='gray',)\n",
    "plt.ylabel('RSE')\n",
    "# plt.grid(True)\n",
    "plt.savefig(\"../plots/MOVING_AVERAGE/rse_moving_average_\"+client_name+\".pdf\")\n",
    "plt.show()"
   ]
  },
  {
   "cell_type": "markdown",
   "id": "ea4a524f",
   "metadata": {},
   "source": [
    "# RMSE"
   ]
  },
  {
   "cell_type": "code",
   "execution_count": 37,
   "id": "d5dac052",
   "metadata": {},
   "outputs": [],
   "source": [
    "# Initialize data to Dicts of RMSE\n",
    "data_of_rmse = {\n",
    "    'SMA': pd.Series(data_of_sma['RMSE'],\n",
    "                      index=None),\n",
    "    'HM': pd.Series(data_of_hm['RMSE'],\n",
    "                      index=None),\n",
    "    'EWMA': pd.Series(data_of_ewma['RMSE'],\n",
    "                      index=None),\n",
    "    'LSGNet': pd.Series(data_of_cnn_bigru['RMSE'],\n",
    "                          index=None),\n",
    "    }\n",
    "\n",
    "# create a Dataframe\n",
    "df_rmse = pd.DataFrame(data_of_rmse)"
   ]
  },
  {
   "cell_type": "code",
   "execution_count": 38,
   "id": "1bea7bcf",
   "metadata": {},
   "outputs": [
    {
     "name": "stderr",
     "output_type": "stream",
     "text": [
      "2025-04-02 03:54:11,212:DEBUG:Assigning font /b'F1' = '/home/marccos.praiano/anaconda3/envs/dev/lib/python3.6/site-packages/matplotlib/mpl-data/fonts/ttf/DejaVuSans.ttf'\n",
      "2025-04-02 03:54:11,236:DEBUG:Embedding font /home/marccos.praiano/anaconda3/envs/dev/lib/python3.6/site-packages/matplotlib/mpl-data/fonts/ttf/DejaVuSans.ttf.\n",
      "2025-04-02 03:54:11,237:DEBUG:Writing TrueType font.\n"
     ]
    },
    {
     "data": {
      "image/png": "[encoded data removed]",
      "text/plain": [
       "<Figure size 288x288 with 1 Axes>"
      ]
     },
     "metadata": {},
     "output_type": "display_data"
    }
   ],
   "source": [
    "# error bars\n",
    "plt.figure(figsize=(4, 4)) # Set the figure size\n",
    "sns.set_style(\"whitegrid\")\n",
    "ax = sns.barplot(data=df_rmse, ci=95, capsize=.2, color='gray',)\n",
    "# plt.grid(True, axis='y');\n",
    "plt.ylabel('RMSE')\n",
    "# plt.grid(True)\n",
    "plt.savefig(\"../plots/rmse_moving_average_\"+client_name+\".pdf\")\n",
    "plt.show()"
   ]
  },
  {
   "cell_type": "code",
   "execution_count": null,
   "id": "0598b564",
   "metadata": {},
   "outputs": [],
   "source": []
  }
 ],
 "metadata": {
  "kernelspec": {
   "display_name": "Python 3",
   "language": "python",
   "name": "python3"
  },
  "language_info": {
   "codemirror_mode": {
    "name": "ipython",
    "version": 3
   },
   "file_extension": ".py",
   "mimetype": "text/x-python",
   "name": "python",
   "nbconvert_exporter": "python",
   "pygments_lexer": "ipython3",
   "version": "3.6.13"
  }
 },
 "nbformat": 4,
 "nbformat_minor": 5
}
