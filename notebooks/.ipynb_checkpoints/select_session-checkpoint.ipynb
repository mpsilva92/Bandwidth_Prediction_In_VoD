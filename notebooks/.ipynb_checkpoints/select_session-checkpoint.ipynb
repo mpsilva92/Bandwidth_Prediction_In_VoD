{
 "cells": [
  {
   "cell_type": "code",
   "execution_count": 1,
   "id": "8fd4de24",
   "metadata": {},
   "outputs": [],
   "source": [
    "# importing libraries\n",
    "import pandas as pd\n",
    "import numpy as np\n",
    "import random\n",
    "import os\n",
    "import matplotlib.pyplot as plt \n",
    "%matplotlib inline\n",
    "import logging\n",
    "\n",
    "logging.basicConfig(level=logging.DEBUG, format=\"%(asctime)s:%(levelname)s:%(message)s\")\n",
    "log = logging.getLogger(__name__)"
   ]
  },
  {
   "cell_type": "markdown",
   "id": "48dd6386",
   "metadata": {},
   "source": [
    "#  1. Load data"
   ]
  },
  {
   "cell_type": "code",
   "execution_count": 4,
   "id": "9454bca0",
   "metadata": {},
   "outputs": [
    {
     "data": {
      "text/plain": [
       "(2409660, 14)"
      ]
     },
     "execution_count": 4,
     "metadata": {},
     "output_type": "execute_result"
    }
   ],
   "source": [
    "# load data of the test\n",
    "data_Of_test = pd.read_csv('/home/marccos.praiano/Master/Prediction_Of_Bandwidth/data/test_data_14feat.csv')\n",
    "data_Of_test.shape"
   ]
  },
  {
   "cell_type": "code",
   "execution_count": 23,
   "id": "a7b8ad9e",
   "metadata": {},
   "outputs": [
    {
     "data": {
      "text/plain": [
       "(2849, 14)"
      ]
     },
     "execution_count": 23,
     "metadata": {},
     "output_type": "execute_result"
    }
   ],
   "source": [
    "name_of_data = 'user_with_high_freq.csv'\n",
    "path_of_data = '../test_data/'+name_of_data\n",
    "test_sample = pd.read_csv(path_of_data)\n",
    "test_sample.shape"
   ]
  },
  {
   "cell_type": "code",
   "execution_count": 31,
   "id": "516a1b77",
   "metadata": {},
   "outputs": [
    {
     "data": {
      "text/plain": [
       "0       0.000299\n",
       "1       0.000299\n",
       "2       0.000299\n",
       "3       0.000299\n",
       "4       0.000299\n",
       "          ...   \n",
       "2844    0.000323\n",
       "2845    0.000323\n",
       "2846    0.000323\n",
       "2847    0.000323\n",
       "2848    0.000323\n",
       "Name: connect_time, Length: 2849, dtype: float64"
      ]
     },
     "execution_count": 31,
     "metadata": {},
     "output_type": "execute_result"
    }
   ],
   "source": [
    "test_sample['connect_time']"
   ]
  },
  {
   "cell_type": "code",
   "execution_count": 4,
   "id": "8910b8d2",
   "metadata": {},
   "outputs": [],
   "source": [
    "connt_data = pd.Series(test_sample['connect_time'])"
   ]
  },
  {
   "cell_type": "code",
   "execution_count": null,
   "id": "570cb587",
   "metadata": {},
   "outputs": [],
   "source": [
    "connt_data = connt_data.drop_duplicates()"
   ]
  },
  {
   "cell_type": "code",
   "execution_count": 5,
   "id": "93f61a83",
   "metadata": {},
   "outputs": [
    {
     "data": {
      "text/plain": [
       "(387720, 14)"
      ]
     },
     "execution_count": 5,
     "metadata": {},
     "output_type": "execute_result"
    }
   ],
   "source": [
    "test_data = data_Of_test.loc[data_Of_test['connect_time'].isin(connt_data)]\n",
    "test_data.shape"
   ]
  },
  {
   "cell_type": "code",
   "execution_count": 7,
   "id": "6aa3862a",
   "metadata": {},
   "outputs": [],
   "source": [
    "test_sample.columns = data_Of_test.columns"
   ]
  },
  {
   "cell_type": "code",
   "execution_count": 6,
   "id": "1ff13a4a",
   "metadata": {},
   "outputs": [],
   "source": [
    "test_data = test_data.reset_index(drop=True)"
   ]
  },
  {
   "cell_type": "code",
   "execution_count": 11,
   "id": "c001cfbf",
   "metadata": {},
   "outputs": [],
   "source": [
    "test_data.test_sample.to_csv('../test_data/user_with_high_freq.csv', encoding='utf-8', index=False, header=True, sep=',', mode='w')"
   ]
  },
  {
   "cell_type": "markdown",
   "id": "0544bfaf",
   "metadata": {},
   "source": [
    "## data from clients (sessions)"
   ]
  },
  {
   "cell_type": "code",
   "execution_count": null,
   "id": "73646ded",
   "metadata": {},
   "outputs": [],
   "source": [
    "def get_element(test):\n",
    "\n",
    "    df_list = []\n",
    "    conn_t = pd.Series(list(test['connect_time']))\n",
    "    conn_t = conn_t.drop_duplicates()\n",
    "\n",
    "    for item in conn_t:\n",
    "        if test['connect_time'].value_counts()[item] == 15:\n",
    "            rows_of_df = test.loc[test['connect_time'] == item]\n",
    "            df_list.append(rows_of_df)\n",
    "    return pd.concat(df_list, axis=0, ignore_index=True)"
   ]
  },
  {
   "cell_type": "code",
   "execution_count": null,
   "id": "1b1cc582",
   "metadata": {},
   "outputs": [],
   "source": [
    "data_Of_data = get_element(majority_data_Of_test)"
   ]
  },
  {
   "cell_type": "code",
   "execution_count": null,
   "id": "35ce705d",
   "metadata": {},
   "outputs": [],
   "source": [
    "data_Of_data.shape"
   ]
  },
  {
   "cell_type": "code",
   "execution_count": null,
   "id": "a1e0d262",
   "metadata": {},
   "outputs": [],
   "source": [
    "# save data in txt\n",
    "data_Of_data.to_csv('../test_data/majority_data.txt', encoding='utf-8', index=False, header=False, sep=',', mode='w')"
   ]
  },
  {
   "cell_type": "code",
   "execution_count": null,
   "id": "8438015f",
   "metadata": {},
   "outputs": [],
   "source": [
    "# get high measurements\n",
    "user_freq =  "
   ]
  },
  {
   "cell_type": "code",
   "execution_count": null,
   "id": "052bc124",
   "metadata": {},
   "outputs": [],
   "source": [
    "def get_measurements(df, user_freq):\n",
    "    \n",
    "    df_list = []\n",
    "    client_name = 'client_'\n",
    "    count = 1\n",
    "    \n",
    "    for item in user_freq:\n",
    "        print(item)\n",
    "        rows_of_df = df.loc[df['connect_time'] == item]\n",
    "        df_list.append(rows_of_df)\n",
    "        \n",
    "        user_data = pd.concat(df_list, axis=0, ignore_index=True)\n",
    "        user_data = user_data.reset_index(drop=True)\n",
    "        \n",
    "        user_data.to_csv('../test_data/client/'+client_name+str(count)+'.txt', encoding='utf-8', index=False, header=False, sep=',', mode='w')\n",
    "        count+= 1\n",
    "    \n",
    "    return pd.concat(df_list, axis=0, ignore_index=True)"
   ]
  },
  {
   "cell_type": "code",
   "execution_count": null,
   "id": "36e14644",
   "metadata": {},
   "outputs": [],
   "source": [
    "user_data = get_measurements(test_df, user_freq)"
   ]
  },
  {
   "cell_type": "code",
   "execution_count": null,
   "id": "616f16b8",
   "metadata": {},
   "outputs": [],
   "source": [
    "# save data in txt\n",
    "user_data.to_csv('../test_data/user_with_high_freq.txt', encoding='utf-8', index=False, header=False, sep=',', mode='w')"
   ]
  },
  {
   "cell_type": "code",
   "execution_count": null,
   "id": "10caea05",
   "metadata": {},
   "outputs": [],
   "source": [
    "fig, ax = plt.subplots()\n",
    "\n",
    "fig.set_figheight(5)\n",
    "fig.set_figwidth(10)\n",
    "\n",
    "clients = ['user 01', 'user 02', ' user 03', 'user 04', 'user 05',\n",
    "           'user 06', 'user 07', 'user 08', 'user 09','user 10']\n",
    "counts = user_hist\n",
    "\n",
    "ax.bar(clients, counts)\n",
    "# ax.bar(clients, counts, label=bar_labels, color=bar_colors)\n",
    "\n",
    "\n",
    "ax.set_ylabel('Count')\n",
    "# ax.set_title('Fruit supply by kind and color')\n",
    "# ax.legend(title='measurement frequency')\n",
    "plt.savefig('../plots/user_data_histogram.pdf')\n",
    "plt.show()"
   ]
  },
  {
   "cell_type": "code",
   "execution_count": null,
   "id": "446661db",
   "metadata": {},
   "outputs": [],
   "source": [
    "#train_size = int(0.8 * len(data))\n",
    "#print(train_size)"
   ]
  },
  {
   "cell_type": "code",
   "execution_count": null,
   "id": "db8f534b",
   "metadata": {},
   "outputs": [],
   "source": [
    "#test_data = data.iloc[9638652:, :]"
   ]
  },
  {
   "cell_type": "code",
   "execution_count": null,
   "id": "0ce9cbe0",
   "metadata": {},
   "outputs": [],
   "source": [
    "def get_session(df):\n",
    "    \n",
    "    conn_list = df['connect_time'].to_list()  # convert in values list \n",
    "    #prev_value = 0.034                       # initial connect_time\n",
    "    connect_t = []                            # create an empty list\n",
    "    diff_values = [conn_list[0]]\n",
    "    index = 0\n",
    "    \n",
    "    for s in range(len(df)):\n",
    "        conn_time = random.choice(conn_list)  # randomly choose a values from connect_time\n",
    "        for item in diff_values:\n",
    "            if item == conn_time:\n",
    "                conn_list.remove(conn_time)\n",
    "                # conn_time = random.choice(conn_list)\n",
    "        \n",
    "        # extract rows subset based in connect_time\n",
    "        if df['connect_time'].value_counts()[diff_values[index]] > 15 and df['connect_time'].value_counts()[diff_values[index]] < 90: # extract only session with 15 segments\n",
    "        # if df['connect_time'].value_counts()[diff_values[index]] == 15:\n",
    "            rows_of_df = df.loc[df['connect_time'] == diff_values[index]]\n",
    "            connect_t.append(rows_of_df)\n",
    "            \n",
    "        diff_values.append(conn_time)\n",
    "        \n",
    "        # if conn_time == prev_value:\n",
    "        # if conn_time in conn_list:\n",
    "           # conn_list.remove(conn_time)\n",
    "        \n",
    "        # prev_value = conn_time\n",
    "        \n",
    "        # list maximum lenth\n",
    "        if (len(connect_t) == 150):\n",
    "            break # break here\n",
    "        index+= 1\n",
    "    # data_df = pd.concat(connect_t, axis=0, ignore_index=True)\n",
    "    \n",
    "    # return concatenated dataframes list\n",
    "    return pd.concat(connect_t, axis=0, ignore_index=True)"
   ]
  },
  {
   "cell_type": "code",
   "execution_count": null,
   "id": "5befc4cb",
   "metadata": {},
   "outputs": [],
   "source": [
    "# select the throughput \n",
    "df_test = test_df.loc[((test_df['downthpt'] > 0) & (test_df['downthpt'] < 2) )]"
   ]
  },
  {
   "cell_type": "code",
   "execution_count": null,
   "id": "cd8c27d7",
   "metadata": {},
   "outputs": [],
   "source": [
    "test_data = get_session(df_test)\n",
    "test_data.shape"
   ]
  },
  {
   "cell_type": "code",
   "execution_count": null,
   "id": "ce19eda1",
   "metadata": {},
   "outputs": [],
   "source": [
    "test_data['connect_time'].value_counts()"
   ]
  },
  {
   "cell_type": "code",
   "execution_count": null,
   "id": "2d54da72",
   "metadata": {},
   "outputs": [],
   "source": [
    "# maximum throughput\n",
    "print('maximum throughput: ', test_data['downthpt'].max())\n",
    "print('mean throughput: ', test_data['downthpt'].mean())\n",
    "print('meadian throughput: ', test_data['downthpt'].median())"
   ]
  },
  {
   "cell_type": "code",
   "execution_count": null,
   "id": "b1377492",
   "metadata": {},
   "outputs": [],
   "source": [
    "# plot the session throughput\n",
    "plt.figure(figsize=(9,5))\n",
    "plt.plot(test_data['downthpt'], label='Throughput')\n",
    "plt.ylabel('Throughput in Mbit/s')\n",
    "plt.xlabel('timestamp')\n",
    "plt.legend(loc='best')\n",
    "plt.grid(True)\n",
    "plt.savefig('../plots/'+data_name+'.pdf')\n",
    "plt.show()"
   ]
  },
  {
   "cell_type": "code",
   "execution_count": null,
   "id": "89b68a43",
   "metadata": {},
   "outputs": [],
   "source": []
  }
 ],
 "metadata": {
  "kernelspec": {
   "display_name": "Python 3",
   "language": "python",
   "name": "python3"
  },
  "language_info": {
   "codemirror_mode": {
    "name": "ipython",
    "version": 3
   },
   "file_extension": ".py",
   "mimetype": "text/x-python",
   "name": "python",
   "nbconvert_exporter": "python",
   "pygments_lexer": "ipython3",
   "version": "3.6.13"
  }
 },
 "nbformat": 4,
 "nbformat_minor": 5
}
