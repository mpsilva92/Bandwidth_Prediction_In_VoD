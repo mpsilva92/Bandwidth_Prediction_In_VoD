{
 "cells": [
  {
   "cell_type": "code",
   "execution_count": 2,
   "metadata": {},
   "outputs": [],
   "source": [
    "import pandas as pd\n",
    "import numpy as np\n",
    "import seaborn as sns\n",
    "import matplotlib.pyplot as plt\n",
    "import plotly.express as px\n",
    "\n",
    "%matplotlib inline\n",
    "plt.style.use('seaborn-whitegrid')"
   ]
  },
  {
   "cell_type": "markdown",
   "metadata": {},
   "source": [
    "# 1. Prediction from models"
   ]
  },
  {
   "cell_type": "code",
   "execution_count": 3,
   "metadata": {},
   "outputs": [],
   "source": [
    "data = ['_data_segments_2mbps_test.csv', '_majority_data.csv', '_minority_data.csv', '_user_with_high_freq.csv']\n",
    "models = ['GRU', 'CNNGRU', 'LSTM', 'CNNLSTM', 'BiLSTM', 'CNNBiLSTM', 'CNNBiGRU', 'SMA', 'HM', 'EWMA']"
   ]
  },
  {
   "cell_type": "code",
   "execution_count": 21,
   "metadata": {},
   "outputs": [],
   "source": [
    "# load SMA\n",
    "data_of_sma = pd.read_csv('../results/test/Metric_SMA_minority_data.csv')"
   ]
  },
  {
   "cell_type": "code",
   "execution_count": 22,
   "metadata": {},
   "outputs": [],
   "source": [
    "# load HM\n",
    "data_of_hm = pd.read_csv('../results/test/Metric_HM_minority_data.csv')"
   ]
  },
  {
   "cell_type": "code",
   "execution_count": 23,
   "metadata": {},
   "outputs": [],
   "source": [
    "# load EWMA\n",
    "data_of_ewma = pd.read_csv('../results/test/Metric_EWMA_minority_data.csv')"
   ]
  },
  {
   "cell_type": "code",
   "execution_count": 24,
   "metadata": {},
   "outputs": [],
   "source": [
    "# Load GRU\n",
    "data_of_gru = pd.read_csv('../results/test/Metric_GRU_minority_data.csv')"
   ]
  },
  {
   "cell_type": "code",
   "execution_count": 25,
   "metadata": {},
   "outputs": [],
   "source": [
    "# load CNN-GRU\n",
    "data_of_cnn_gru = pd.read_csv('../results/test/Metric_CNNGRU_minority_data.csv')"
   ]
  },
  {
   "cell_type": "code",
   "execution_count": 26,
   "metadata": {},
   "outputs": [],
   "source": [
    "# Load LSTM\n",
    "data_of_lstm = pd.read_csv('../results/test/Metric_LSTM_minority_data.csv')"
   ]
  },
  {
   "cell_type": "code",
   "execution_count": 27,
   "metadata": {},
   "outputs": [],
   "source": [
    "# load CNN LSTM\n",
    "data_of_cnn_lstm = pd.read_csv('../results/test/Metric_CNNLSTM_minority_data.csv')"
   ]
  },
  {
   "cell_type": "code",
   "execution_count": 28,
   "metadata": {},
   "outputs": [],
   "source": [
    "# load BiLSTM\n",
    "data_of_bilstm = pd.read_csv('../results/test/Metric_BiLSTM_minority_data.csv')"
   ]
  },
  {
   "cell_type": "code",
   "execution_count": 29,
   "metadata": {},
   "outputs": [],
   "source": [
    "# load CNNBiLSTM\n",
    "data_of_cnn_bilstm = pd.read_csv('../results/test/Metric_CNNBiLSTM_minority_data.csv')"
   ]
  },
  {
   "cell_type": "code",
   "execution_count": 30,
   "metadata": {},
   "outputs": [],
   "source": [
    "# load CNN-BiGRU - GSTNet\n",
    "data_of_cnn_bigru = pd.read_csv('../results/test/Metric_CNNBiGRU_minority_data.csv')"
   ]
  },
  {
   "cell_type": "code",
   "execution_count": 31,
   "metadata": {},
   "outputs": [],
   "source": [
    "# load rf\n",
    "data_of_rf = pd.read_csv('../results/test/Metric_RF_minority_data.csv')"
   ]
  },
  {
   "cell_type": "code",
   "execution_count": 32,
   "metadata": {},
   "outputs": [],
   "source": [
    "# load KNN\n",
    "data_of_knn = pd.read_csv('../results/test/Metric_KNN_minority_data.csv')"
   ]
  },
  {
   "cell_type": "code",
   "execution_count": 51,
   "metadata": {},
   "outputs": [],
   "source": [
    "data_name = 'minority_data'"
   ]
  },
  {
   "cell_type": "markdown",
   "metadata": {},
   "source": [
    "# 1.1 Using metrics"
   ]
  },
  {
   "cell_type": "markdown",
   "metadata": {},
   "source": [
    "# 1.2 MSE"
   ]
  },
  {
   "cell_type": "code",
   "execution_count": 34,
   "metadata": {},
   "outputs": [],
   "source": [
    "# Evaluate MSE\n",
    "# Initialize data to Dicts of MSE\n",
    "mse_from_models = {\n",
    "    'GRU': pd.Series(data_of_gru['MSE'],\n",
    "                      index=None),\n",
    "    'CNNGRU': pd.Series(data_of_cnn_gru['MSE'], \n",
    "                     index=None),\n",
    "    'LSTM': pd.Series(data_of_lstm['MSE'],\n",
    "                      index=None),\n",
    "    'CNNLSTM': pd.Series(data_of_cnn_lstm['MSE'],\n",
    "                         index=None),\n",
    "    'BiLSTM': pd.Series(data_of_bilstm['MSE'],               \n",
    "                      index=None),\n",
    "    'CNNBiLSTM': pd.Series(data_of_cnn_bilstm['MSE'],\n",
    "                           index=None),\n",
    "    'RF': pd.Series(data_of_rf['MSE'], \n",
    "                    index=None),\n",
    "    'KNN': pd.Series(data_of_knn['MSE'],\n",
    "                     index=None),\n",
    "    'GSTNet':pd.Series(data_of_cnn_bigru['MSE'], \n",
    "                         index=None),\n",
    "}\n",
    "\n",
    "# create a Dataframe\n",
    "df_mse_dl = pd.DataFrame(mse_from_models)"
   ]
  },
  {
   "cell_type": "code",
   "execution_count": 35,
   "metadata": {},
   "outputs": [],
   "source": [
    "mse_from_moving_av = {\n",
    "    'SMA': pd.Series(data_of_sma['MSE'],\n",
    "                     index=None),\n",
    "    'HM': pd.Series(data_of_hm['MSE'],\n",
    "                    index=None),\n",
    "    'EWMA': pd.Series(data_of_ewma['MSE'],\n",
    "                      index=None),\n",
    "    'GSTNet':pd.Series(data_of_cnn_bigru['MSE'], \n",
    "                         index=None),\n",
    "    }\n",
    "\n",
    "# create a Dataframe\n",
    "df_mse_ma = pd.DataFrame(mse_from_moving_av)"
   ]
  },
  {
   "cell_type": "code",
   "execution_count": 36,
   "metadata": {},
   "outputs": [
    {
     "data": {
      "image/png": "[encoded data removed]",
      "text/plain": [
       "<Figure size 576x288 with 1 Axes>"
      ]
     },
     "metadata": {},
     "output_type": "display_data"
    }
   ],
   "source": [
    "# show the error bars\n",
    "# create figure and axes\n",
    "\n",
    "# plt.figure(figsize=(8, 4))\n",
    "fig, ax = plt.subplots(figsize=(8, 4))\n",
    "sns.set_style(\"whitegrid\")\n",
    "axs = sns.barplot(data=df_mse_dl, ci=95, capsize=.2, color='gray')\n",
    "plt.ylabel('MSE')\n",
    "plt.xlabel('Modelos')\n",
    "# plt.grid(True)\n",
    "# plt.savefig(\"../plots/MOVING_AVERAGE/mse_from_models_\"+data_name+\".pdf\")\n",
    "plt.show()"
   ]
  },
  {
   "cell_type": "markdown",
   "metadata": {},
   "source": [
    "# 1.3 Moving Average"
   ]
  },
  {
   "cell_type": "code",
   "execution_count": 37,
   "metadata": {},
   "outputs": [
    {
     "data": {
      "image/png": "[encoded data removed]",
      "text/plain": [
       "<Figure size 432x288 with 1 Axes>"
      ]
     },
     "metadata": {},
     "output_type": "display_data"
    }
   ],
   "source": [
    "# show the error bars\n",
    "# create figure and axes\n",
    "\n",
    "# fig, ax = plt.subplots(figsize=(8, 8))\n",
    "plt.figure()\n",
    "# fig, axs = plt.subplots(1,2, figsize=(10, 8), sharey=True)\n",
    "sns.set_style(\"whitegrid\")\n",
    "axs = sns.barplot(data=df_mse_ma, ci=95, capsize=.2, color='gray')\n",
    "plt.ylabel('MSE')\n",
    "plt.xlabel('Modelos')\n",
    "# plt.grid(True)\n",
    "# plt.savefig(\"../plots/MOVING_AVERAGE/mse_from_moving_av_\"+data_name+\".pdf\")\n",
    "plt.show()"
   ]
  },
  {
   "cell_type": "markdown",
   "metadata": {},
   "source": [
    "# 1.3 MAE"
   ]
  },
  {
   "cell_type": "code",
   "execution_count": 56,
   "metadata": {},
   "outputs": [],
   "source": [
    "# Initialize data to Dicts of MAE\n",
    "mae_from_models = {\n",
    "    'GRU': pd.Series(data_of_gru['MAE'],\n",
    "                      index=None),\n",
    "    'CNNGRU': pd.Series(data_of_cnn_gru['MAE'], \n",
    "                     index=None),\n",
    "    'LSTM': pd.Series(data_of_lstm['MAE'],\n",
    "                      index=None),\n",
    "    'CNNLSTM': pd.Series(data_of_cnn_lstm['MAE'],\n",
    "                         index=None),\n",
    "    'BiLSTM': pd.Series(data_of_bilstm['MAE'],               \n",
    "                      index=None),\n",
    "    'CNNBiLSTM': pd.Series(data_of_cnn_bilstm['MAE'],\n",
    "                         index=None),\n",
    "    'RF': pd.Series(data_of_rf['MAE'], \n",
    "                    index=None),\n",
    "    'KNN': pd.Series(data_of_knn['MAE'],\n",
    "                     index=None),\n",
    "    'GSTNet': pd.Series(data_of_cnn_bigru['MAE'], \n",
    "                         index=None),\n",
    "    }\n",
    "\n",
    "# create a Dataframe\n",
    "df_mae_dl = pd.DataFrame(mae_from_models)"
   ]
  },
  {
   "cell_type": "code",
   "execution_count": 57,
   "metadata": {},
   "outputs": [],
   "source": [
    "mae_from_moving_av = {\n",
    "    'SMA': pd.Series(data_of_sma['MAE'],\n",
    "                     index=None),\n",
    "    'HM': pd.Series(data_of_hm['MAE'],\n",
    "                    index=None),\n",
    "    'EWMA': pd.Series(data_of_ewma['MAE'],\n",
    "                      index=None),\n",
    "    'GSTNet':pd.Series(data_of_cnn_bigru['MAE'], \n",
    "                         index=None),\n",
    "    }\n",
    "\n",
    "# create a Dataframe\n",
    "df_mae_ma = pd.DataFrame(mae_from_moving_av)"
   ]
  },
  {
   "cell_type": "code",
   "execution_count": 58,
   "metadata": {},
   "outputs": [
    {
     "data": {
      "image/png": "[encoded data removed]",
      "text/plain": [
       "<Figure size 576x288 with 1 Axes>"
      ]
     },
     "metadata": {},
     "output_type": "display_data"
    }
   ],
   "source": [
    "# show the error bars\n",
    "# create figure and axes\n",
    "\n",
    "plt.figure(figsize=(8, 4))\n",
    "# fig, ax = plt.subplots(figsize=(8, 8))\n",
    "sns.set_style(\"whitegrid\")\n",
    "axs = sns.barplot(data=df_mae_dl, ci=95, capsize=.2, color='gray')\n",
    "plt.ylabel('MAE')\n",
    "plt.xlabel('Modelos')\n",
    "# plt.grid(True)\n",
    "plt.savefig(\"../plots/mae_from_models_\"+data_name+\".pdf\")\n",
    "plt.show()"
   ]
  },
  {
   "cell_type": "code",
   "execution_count": 60,
   "metadata": {},
   "outputs": [
    {
     "data": {
      "image/png": "[encoded data removed]",
      "text/plain": [
       "<Figure size 432x288 with 1 Axes>"
      ]
     },
     "metadata": {},
     "output_type": "display_data"
    }
   ],
   "source": [
    "# show the error bars\n",
    "# create figure and axes\n",
    "\n",
    "# fig, ax = plt.subplots(figsize=(8, 4))\n",
    "# plt.figure()\n",
    "# plt.figure(figsize=(3, 4))\n",
    "sns.set_style(\"whitegrid\")\n",
    "axs = sns.barplot(data=df_mae_ma, ci=95, capsize=.2, color='gray')\n",
    "plt.ylabel('MAE')\n",
    "plt.xlabel('Modelos')\n",
    "# plt.grid(True)\n",
    "plt.savefig(\"../plots/mae_from_moving_av_\"+data_name+\".pdf\")\n",
    "plt.show()"
   ]
  },
  {
   "cell_type": "markdown",
   "metadata": {},
   "source": [
    "# RSE"
   ]
  },
  {
   "cell_type": "code",
   "execution_count": 61,
   "metadata": {},
   "outputs": [],
   "source": [
    "# Initialize data to Dicts of RSE\n",
    "rse_from_models = {\n",
    "    'GRU': pd.Series(data_of_gru['RSE'],\n",
    "                      index=None),\n",
    "    'CNNGRU': pd.Series(data_of_cnn_gru['RSE'], \n",
    "                     index=None),\n",
    "    'LSTM': pd.Series(data_of_lstm['RSE'],\n",
    "                      index=None),\n",
    "    'CNNLSTM': pd.Series(data_of_cnn_lstm['RSE'],\n",
    "                         index=None),\n",
    "    'BiLSTM': pd.Series(data_of_bilstm['RSE'],               \n",
    "                      index=None),\n",
    "    'CNNBiLSTM': pd.Series(data_of_cnn_bilstm['RSE'],\n",
    "                           index=None),\n",
    "    'RF': pd.Series(data_of_rf['RSE'], \n",
    "                    index=None),\n",
    "    'KNN': pd.Series(data_of_knn['RSE'],\n",
    "                     index=None),\n",
    "    'GSTNet': pd.Series(data_of_cnn_bigru['RSE'],\n",
    "                          index=None),\n",
    "    }\n",
    "\n",
    "# create a Dataframe\n",
    "df_rse_dl = pd.DataFrame(rse_from_models)"
   ]
  },
  {
   "cell_type": "code",
   "execution_count": 62,
   "metadata": {},
   "outputs": [],
   "source": [
    "rse_from_moving_av = {\n",
    "    'SMA': pd.Series(data_of_sma['MAE'],\n",
    "                     index=None),\n",
    "    'HM': pd.Series(data_of_hm['MAE'],\n",
    "                    index=None),\n",
    "    'EWMA': pd.Series(data_of_ewma['MAE'],\n",
    "                      index=None),\n",
    "    'GSTNet':pd.Series(data_of_cnn_bigru['MAE'], \n",
    "                         index=None),\n",
    "    }\n",
    "\n",
    "# create a Dataframe\n",
    "df_rse_ma = pd.DataFrame(rse_from_moving_av)"
   ]
  },
  {
   "cell_type": "code",
   "execution_count": 65,
   "metadata": {},
   "outputs": [
    {
     "data": {
      "image/png": "[encoded data removed]",
      "text/plain": [
       "<Figure size 576x288 with 1 Axes>"
      ]
     },
     "metadata": {},
     "output_type": "display_data"
    }
   ],
   "source": [
    "# show the error bars\n",
    "# create figure and axes\n",
    "\n",
    "plt.figure(figsize=(8, 4))\n",
    "# fig, ax = plt.subplots(figsize=(8, 8))\n",
    "sns.set_style(\"whitegrid\")\n",
    "axs = sns.barplot(data=df_rse_dl, ci=95, capsize=.2, color='gray')\n",
    "plt.ylabel('RSE')\n",
    "plt.xlabel('Modelos')\n",
    "# plt.grid(True)\n",
    "plt.savefig(\"../plots/rse_from_models_\"+data_name+\".pdf\")\n",
    "plt.show()"
   ]
  },
  {
   "cell_type": "code",
   "execution_count": 66,
   "metadata": {},
   "outputs": [
    {
     "data": {
      "image/png": "[encoded data removed]",
      "text/plain": [
       "<Figure size 432x288 with 1 Axes>"
      ]
     },
     "metadata": {},
     "output_type": "display_data"
    }
   ],
   "source": [
    "# show the error bars\n",
    "# create figure and axes\n",
    "\n",
    "# fig, ax = plt.subplots(figsize=(8, 8))\n",
    "# plt.figure()\n",
    "# plt.figure(figsize=(8, 4))\n",
    "sns.set_style(\"whitegrid\")\n",
    "axs = sns.barplot(data=df_rse_ma, ci=95, capsize=.2, color='gray')\n",
    "plt.ylabel('RSE')\n",
    "plt.xlabel('Modelos')\n",
    "# plt.grid(True)\n",
    "plt.savefig(\"../plots/rse_from_moving_av_\"+data_name+\".pdf\")\n",
    "plt.show()"
   ]
  },
  {
   "cell_type": "markdown",
   "metadata": {},
   "source": [
    "## RMSE"
   ]
  },
  {
   "cell_type": "code",
   "execution_count": 67,
   "metadata": {},
   "outputs": [],
   "source": [
    "# Initialize data to Dicts of RMSE\n",
    "rmse_from_models = {\n",
    "    'GRU': pd.Series(data_of_gru['RMSE'],\n",
    "                      index=None),\n",
    "    'CNNGRU': pd.Series(data_of_cnn_gru['RMSE'], \n",
    "                     index=None),\n",
    "    'LSTM': pd.Series(data_of_lstm['RMSE'],\n",
    "                      index=None),\n",
    "    'CNNLSTM': pd.Series(data_of_cnn_lstm['RMSE'],\n",
    "                         index=None),\n",
    "    'BiLSTM': pd.Series(data_of_bilstm['RMSE'],               \n",
    "                      index=None),\n",
    "    'CNNBiLSTM': pd.Series(data_of_cnn_bilstm['RMSE'],\n",
    "                         index=None),\n",
    "    'RF': pd.Series(data_of_rf['RMSE'], \n",
    "                    index=None),\n",
    "    'KNN': pd.Series(data_of_knn['RMSE'],\n",
    "                     index=None),\n",
    "    'GSTNet': pd.Series(data_of_cnn_bigru['RMSE'],\n",
    "                          index=None),\n",
    "    }\n",
    "\n",
    "# create a Dataframe\n",
    "df_rmse = pd.DataFrame(rmse_from_models)"
   ]
  },
  {
   "cell_type": "code",
   "execution_count": 72,
   "metadata": {},
   "outputs": [
    {
     "data": {
      "image/png": "[encoded data removed]",
      "text/plain": [
       "<Figure size 576x288 with 1 Axes>"
      ]
     },
     "metadata": {},
     "output_type": "display_data"
    }
   ],
   "source": [
    "# error bars\n",
    "plt.figure(figsize=(8, 4)) # Set the figure size\n",
    "sns.set_style(\"whitegrid\")\n",
    "ax = sns.barplot(data=df_rmse, ci=95, capsize=.2, color='gray',)\n",
    "plt.ylabel('RMSE')\n",
    "plt.xlabel('Modelos')\n",
    "# plt.grid(True)\n",
    "plt.savefig(\"../plots/rmse_from_models_\"+data_name+\".pdf\")\n",
    "plt.show()"
   ]
  },
  {
   "cell_type": "code",
   "execution_count": 69,
   "metadata": {},
   "outputs": [],
   "source": [
    "rmse_from_moving_av = {\n",
    "    'SMA': pd.Series(data_of_sma['MAE'],\n",
    "                     index=None),\n",
    "    'HM': pd.Series(data_of_hm['MAE'],\n",
    "                    index=None),\n",
    "    'EWMA': pd.Series(data_of_ewma['MAE'],\n",
    "                      index=None),\n",
    "    'GSTNet':pd.Series(data_of_cnn_bigru['MAE'], \n",
    "                         index=None),\n",
    "    }\n",
    "\n",
    "# create a Dataframe\n",
    "df_rmse_ma = pd.DataFrame(rmse_from_moving_av)"
   ]
  },
  {
   "cell_type": "code",
   "execution_count": 73,
   "metadata": {},
   "outputs": [
    {
     "data": {
      "image/png": "[encoded data removed]",
      "text/plain": [
       "<Figure size 432x288 with 1 Axes>"
      ]
     },
     "metadata": {},
     "output_type": "display_data"
    }
   ],
   "source": [
    "# show the error bars\n",
    "# create figure and axes\n",
    "\n",
    "# fig, ax = plt.subplots(figsize=(8, 8))\n",
    "# plt.figure()\n",
    "# plt.figure(figsize=(8, 4))\n",
    "sns.set_style(\"whitegrid\")\n",
    "axs = sns.barplot(data=df_rmse_ma, ci=95, capsize=.2, color='gray')\n",
    "plt.ylabel('RMSE')\n",
    "plt.xlabel('Modelos')\n",
    "# plt.grid(True)\n",
    "plt.savefig(\"../plots/rmse_from_moving_av_\"+data_name+\".pdf\")\n",
    "plt.show()"
   ]
  },
  {
   "cell_type": "markdown",
   "metadata": {},
   "source": [
    "# CDF"
   ]
  },
  {
   "cell_type": "code",
   "execution_count": null,
   "metadata": {},
   "outputs": [],
   "source": [
    "# Sort the data in ascending order\n",
    "sorted_data = np.sort(df_rse['GSTNet'])\n",
    "\n",
    "# Calculate the cumulative proportion of the sorted data\n",
    "cumulative_data = np.cumsum(sorted_data) / np.sum(sorted_data)"
   ]
  },
  {
   "cell_type": "code",
   "execution_count": null,
   "metadata": {},
   "outputs": [],
   "source": [
    "import matplotlib.pyplot as plt\n",
    "\n",
    "# Plot the CDF\n",
    "plt.plot(sorted_data, cumulative_data)\n",
    "\n",
    "# Add labels and title\n",
    "plt.xlabel(\"Error\")\n",
    "plt.ylabel(\"Cumulative Proportion\")\n",
    "plt.title(\"Cumulative Distribution Function (CDF) of Throughput\")\n",
    "plt.show()"
   ]
  },
  {
   "cell_type": "code",
   "execution_count": null,
   "metadata": {},
   "outputs": [],
   "source": [
    "# Calculate CDF\n",
    "sorted_errors = np.sort(df_rmse['GSTNet'])\n",
    "cdf = np.arange(len(sorted_errors)) / float(len(sorted_errors))\n",
    "\n",
    "# Plot CDF\n",
    "plt.plot(sorted_errors, cdf, color='green')\n",
    "plt.title(\"CDF of Prediction Errors\")\n",
    "plt.xlabel(\"Error\")\n",
    "plt.ylabel(\"Cumulative Probability\")\n",
    "plt.show()\n"
   ]
  },
  {
   "cell_type": "markdown",
   "metadata": {},
   "source": [
    "# PDF"
   ]
  },
  {
   "cell_type": "code",
   "execution_count": null,
   "metadata": {},
   "outputs": [],
   "source": [
    "from scipy.stats import gaussian_kde\n",
    "\n",
    "# Calculate PDF using Kernel Density Estimation\n",
    "kde = gaussian_kde(df_rmse['GSTNet'], bw_method=0.5)\n",
    "error_range = np.linspace(min(df_rmse['GSTNet']), max(df_rmse['GSTNet']), 100)\n",
    "pdf = kde(error_range)\n",
    "\n",
    "# Plot PDF\n",
    "plt.plot(error_range, pdf, color='blue')\n",
    "plt.title(\"PDF of Prediction Errors\")\n",
    "plt.xlabel(\"Error\")\n",
    "plt.ylabel(\"Density\")\n",
    "plt.show()"
   ]
  },
  {
   "cell_type": "markdown",
   "metadata": {},
   "source": [
    "## BoxPlot"
   ]
  },
  {
   "cell_type": "code",
   "execution_count": null,
   "metadata": {},
   "outputs": [],
   "source": [
    "# MSE\n",
    "# plt.figure(figsize=(10, 8))\n",
    "#sns.set(rc={\"figure.figsize\":(10, 4)})\n",
    "fig = sns.boxplot(data=df_mse, width=0.3);\n",
    "plt.show();"
   ]
  },
  {
   "cell_type": "code",
   "execution_count": null,
   "metadata": {},
   "outputs": [],
   "source": []
  }
 ],
 "metadata": {
  "kernelspec": {
   "display_name": "Python 3",
   "language": "python",
   "name": "python3"
  },
  "language_info": {
   "codemirror_mode": {
    "name": "ipython",
    "version": 3
   },
   "file_extension": ".py",
   "mimetype": "text/x-python",
   "name": "python",
   "nbconvert_exporter": "python",
   "pygments_lexer": "ipython3",
   "version": "3.6.13"
  }
 },
 "nbformat": 4,
 "nbformat_minor": 4
}
